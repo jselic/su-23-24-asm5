{
 "cells": [
  {
   "cell_type": "markdown",
   "id": "3af8df25",
   "metadata": {},
   "source": [
    "# SU: Assignment 5"
   ]
  },
  {
   "cell_type": "code",
   "execution_count": 167,
   "id": "bca5007e",
   "metadata": {},
   "outputs": [],
   "source": [
    "import pandas as pd\n",
    "import numpy as np\n",
    "import seaborn as sns\n",
    "import matplotlib.pyplot as plt\n",
    "from sklearn.model_selection import train_test_split\n",
    "from sklearn.metrics import accuracy_score,precision_score,f1_score,roc_auc_score, recall_score\n",
    "from sklearn.ensemble import GradientBoostingClassifier\n",
    "from sklearn.tree import DecisionTreeClassifier, DecisionTreeRegressor"
   ]
  },
  {
   "cell_type": "code",
   "execution_count": 55,
   "id": "91b1e363",
   "metadata": {},
   "outputs": [],
   "source": [
    "from ucimlrepo import fetch_ucirepo \n",
    "  \n",
    "# fetch dataset \n",
    "wine_quality = fetch_ucirepo(id=186) \n",
    "  \n",
    "df = wine_quality.data.original"
   ]
  },
  {
   "cell_type": "code",
   "execution_count": 56,
   "id": "225267e3",
   "metadata": {},
   "outputs": [],
   "source": [
    "df = pd.get_dummies(df, columns=['color'])\n",
    "df = df.dropna()"
   ]
  },
  {
   "cell_type": "code",
   "execution_count": 57,
   "id": "3c9f20ac",
   "metadata": {},
   "outputs": [
    {
     "data": {
      "text/html": [
       "<div>\n",
       "<style scoped>\n",
       "    .dataframe tbody tr th:only-of-type {\n",
       "        vertical-align: middle;\n",
       "    }\n",
       "\n",
       "    .dataframe tbody tr th {\n",
       "        vertical-align: top;\n",
       "    }\n",
       "\n",
       "    .dataframe thead th {\n",
       "        text-align: right;\n",
       "    }\n",
       "</style>\n",
       "<table border=\"1\" class=\"dataframe\">\n",
       "  <thead>\n",
       "    <tr style=\"text-align: right;\">\n",
       "      <th></th>\n",
       "      <th>fixed_acidity</th>\n",
       "      <th>volatile_acidity</th>\n",
       "      <th>citric_acid</th>\n",
       "      <th>residual_sugar</th>\n",
       "      <th>chlorides</th>\n",
       "      <th>free_sulfur_dioxide</th>\n",
       "      <th>total_sulfur_dioxide</th>\n",
       "      <th>density</th>\n",
       "      <th>pH</th>\n",
       "      <th>sulphates</th>\n",
       "      <th>alcohol</th>\n",
       "      <th>quality</th>\n",
       "      <th>color_red</th>\n",
       "      <th>color_white</th>\n",
       "    </tr>\n",
       "  </thead>\n",
       "  <tbody>\n",
       "    <tr>\n",
       "      <th>0</th>\n",
       "      <td>7.4</td>\n",
       "      <td>0.70</td>\n",
       "      <td>0.00</td>\n",
       "      <td>1.9</td>\n",
       "      <td>0.076</td>\n",
       "      <td>11.0</td>\n",
       "      <td>34.0</td>\n",
       "      <td>0.9978</td>\n",
       "      <td>3.51</td>\n",
       "      <td>0.56</td>\n",
       "      <td>9.4</td>\n",
       "      <td>5</td>\n",
       "      <td>1</td>\n",
       "      <td>0</td>\n",
       "    </tr>\n",
       "    <tr>\n",
       "      <th>1</th>\n",
       "      <td>7.8</td>\n",
       "      <td>0.88</td>\n",
       "      <td>0.00</td>\n",
       "      <td>2.6</td>\n",
       "      <td>0.098</td>\n",
       "      <td>25.0</td>\n",
       "      <td>67.0</td>\n",
       "      <td>0.9968</td>\n",
       "      <td>3.20</td>\n",
       "      <td>0.68</td>\n",
       "      <td>9.8</td>\n",
       "      <td>5</td>\n",
       "      <td>1</td>\n",
       "      <td>0</td>\n",
       "    </tr>\n",
       "    <tr>\n",
       "      <th>2</th>\n",
       "      <td>7.8</td>\n",
       "      <td>0.76</td>\n",
       "      <td>0.04</td>\n",
       "      <td>2.3</td>\n",
       "      <td>0.092</td>\n",
       "      <td>15.0</td>\n",
       "      <td>54.0</td>\n",
       "      <td>0.9970</td>\n",
       "      <td>3.26</td>\n",
       "      <td>0.65</td>\n",
       "      <td>9.8</td>\n",
       "      <td>5</td>\n",
       "      <td>1</td>\n",
       "      <td>0</td>\n",
       "    </tr>\n",
       "    <tr>\n",
       "      <th>3</th>\n",
       "      <td>11.2</td>\n",
       "      <td>0.28</td>\n",
       "      <td>0.56</td>\n",
       "      <td>1.9</td>\n",
       "      <td>0.075</td>\n",
       "      <td>17.0</td>\n",
       "      <td>60.0</td>\n",
       "      <td>0.9980</td>\n",
       "      <td>3.16</td>\n",
       "      <td>0.58</td>\n",
       "      <td>9.8</td>\n",
       "      <td>6</td>\n",
       "      <td>1</td>\n",
       "      <td>0</td>\n",
       "    </tr>\n",
       "    <tr>\n",
       "      <th>4</th>\n",
       "      <td>7.4</td>\n",
       "      <td>0.70</td>\n",
       "      <td>0.00</td>\n",
       "      <td>1.9</td>\n",
       "      <td>0.076</td>\n",
       "      <td>11.0</td>\n",
       "      <td>34.0</td>\n",
       "      <td>0.9978</td>\n",
       "      <td>3.51</td>\n",
       "      <td>0.56</td>\n",
       "      <td>9.4</td>\n",
       "      <td>5</td>\n",
       "      <td>1</td>\n",
       "      <td>0</td>\n",
       "    </tr>\n",
       "    <tr>\n",
       "      <th>5</th>\n",
       "      <td>7.4</td>\n",
       "      <td>0.66</td>\n",
       "      <td>0.00</td>\n",
       "      <td>1.8</td>\n",
       "      <td>0.075</td>\n",
       "      <td>13.0</td>\n",
       "      <td>40.0</td>\n",
       "      <td>0.9978</td>\n",
       "      <td>3.51</td>\n",
       "      <td>0.56</td>\n",
       "      <td>9.4</td>\n",
       "      <td>5</td>\n",
       "      <td>1</td>\n",
       "      <td>0</td>\n",
       "    </tr>\n",
       "    <tr>\n",
       "      <th>6</th>\n",
       "      <td>7.9</td>\n",
       "      <td>0.60</td>\n",
       "      <td>0.06</td>\n",
       "      <td>1.6</td>\n",
       "      <td>0.069</td>\n",
       "      <td>15.0</td>\n",
       "      <td>59.0</td>\n",
       "      <td>0.9964</td>\n",
       "      <td>3.30</td>\n",
       "      <td>0.46</td>\n",
       "      <td>9.4</td>\n",
       "      <td>5</td>\n",
       "      <td>1</td>\n",
       "      <td>0</td>\n",
       "    </tr>\n",
       "    <tr>\n",
       "      <th>7</th>\n",
       "      <td>7.3</td>\n",
       "      <td>0.65</td>\n",
       "      <td>0.00</td>\n",
       "      <td>1.2</td>\n",
       "      <td>0.065</td>\n",
       "      <td>15.0</td>\n",
       "      <td>21.0</td>\n",
       "      <td>0.9946</td>\n",
       "      <td>3.39</td>\n",
       "      <td>0.47</td>\n",
       "      <td>10.0</td>\n",
       "      <td>7</td>\n",
       "      <td>1</td>\n",
       "      <td>0</td>\n",
       "    </tr>\n",
       "    <tr>\n",
       "      <th>8</th>\n",
       "      <td>7.8</td>\n",
       "      <td>0.58</td>\n",
       "      <td>0.02</td>\n",
       "      <td>2.0</td>\n",
       "      <td>0.073</td>\n",
       "      <td>9.0</td>\n",
       "      <td>18.0</td>\n",
       "      <td>0.9968</td>\n",
       "      <td>3.36</td>\n",
       "      <td>0.57</td>\n",
       "      <td>9.5</td>\n",
       "      <td>7</td>\n",
       "      <td>1</td>\n",
       "      <td>0</td>\n",
       "    </tr>\n",
       "    <tr>\n",
       "      <th>9</th>\n",
       "      <td>7.5</td>\n",
       "      <td>0.50</td>\n",
       "      <td>0.36</td>\n",
       "      <td>6.1</td>\n",
       "      <td>0.071</td>\n",
       "      <td>17.0</td>\n",
       "      <td>102.0</td>\n",
       "      <td>0.9978</td>\n",
       "      <td>3.35</td>\n",
       "      <td>0.80</td>\n",
       "      <td>10.5</td>\n",
       "      <td>5</td>\n",
       "      <td>1</td>\n",
       "      <td>0</td>\n",
       "    </tr>\n",
       "  </tbody>\n",
       "</table>\n",
       "</div>"
      ],
      "text/plain": [
       "   fixed_acidity  volatile_acidity  citric_acid  residual_sugar  chlorides  \\\n",
       "0            7.4              0.70         0.00             1.9      0.076   \n",
       "1            7.8              0.88         0.00             2.6      0.098   \n",
       "2            7.8              0.76         0.04             2.3      0.092   \n",
       "3           11.2              0.28         0.56             1.9      0.075   \n",
       "4            7.4              0.70         0.00             1.9      0.076   \n",
       "5            7.4              0.66         0.00             1.8      0.075   \n",
       "6            7.9              0.60         0.06             1.6      0.069   \n",
       "7            7.3              0.65         0.00             1.2      0.065   \n",
       "8            7.8              0.58         0.02             2.0      0.073   \n",
       "9            7.5              0.50         0.36             6.1      0.071   \n",
       "\n",
       "   free_sulfur_dioxide  total_sulfur_dioxide  density    pH  sulphates  \\\n",
       "0                 11.0                  34.0   0.9978  3.51       0.56   \n",
       "1                 25.0                  67.0   0.9968  3.20       0.68   \n",
       "2                 15.0                  54.0   0.9970  3.26       0.65   \n",
       "3                 17.0                  60.0   0.9980  3.16       0.58   \n",
       "4                 11.0                  34.0   0.9978  3.51       0.56   \n",
       "5                 13.0                  40.0   0.9978  3.51       0.56   \n",
       "6                 15.0                  59.0   0.9964  3.30       0.46   \n",
       "7                 15.0                  21.0   0.9946  3.39       0.47   \n",
       "8                  9.0                  18.0   0.9968  3.36       0.57   \n",
       "9                 17.0                 102.0   0.9978  3.35       0.80   \n",
       "\n",
       "   alcohol  quality  color_red  color_white  \n",
       "0      9.4        5          1            0  \n",
       "1      9.8        5          1            0  \n",
       "2      9.8        5          1            0  \n",
       "3      9.8        6          1            0  \n",
       "4      9.4        5          1            0  \n",
       "5      9.4        5          1            0  \n",
       "6      9.4        5          1            0  \n",
       "7     10.0        7          1            0  \n",
       "8      9.5        7          1            0  \n",
       "9     10.5        5          1            0  "
      ]
     },
     "execution_count": 57,
     "metadata": {},
     "output_type": "execute_result"
    }
   ],
   "source": [
    "df.head(10)"
   ]
  },
  {
   "cell_type": "code",
   "execution_count": 58,
   "id": "55255aa6",
   "metadata": {},
   "outputs": [],
   "source": [
    "X = df.drop('quality',axis=1)\n",
    "y = df['quality']"
   ]
  },
  {
   "cell_type": "code",
   "execution_count": 59,
   "id": "c1576d5f",
   "metadata": {},
   "outputs": [],
   "source": [
    "X_train, X_test, y_train, y_test = train_test_split(X, y, test_size=0.2, random_state=1112)"
   ]
  },
  {
   "cell_type": "markdown",
   "id": "ee633551",
   "metadata": {},
   "source": [
    "#### #We now have to decide where we will put the threhold for 'high quality' wine. Let's look at some stats"
   ]
  },
  {
   "cell_type": "code",
   "execution_count": 60,
   "id": "7db35e47",
   "metadata": {},
   "outputs": [
    {
     "data": {
      "image/png": "[encoded data removed]",
      "text/plain": [
       "<Figure size 500x500 with 1 Axes>"
      ]
     },
     "metadata": {},
     "output_type": "display_data"
    }
   ],
   "source": [
    "sns.displot(data=y_train, kde=False)\n",
    "plt.title('Distribution of Quality')\n",
    "plt.xlabel('Quality')\n",
    "plt.ylabel('Count')\n",
    "plt.show()"
   ]
  },
  {
   "cell_type": "code",
   "execution_count": 61,
   "id": "12e7ce7c",
   "metadata": {},
   "outputs": [
    {
     "data": {
      "text/plain": [
       "5.818377712790519"
      ]
     },
     "execution_count": 61,
     "metadata": {},
     "output_type": "execute_result"
    }
   ],
   "source": [
    "np.mean(y)"
   ]
  },
  {
   "cell_type": "code",
   "execution_count": 62,
   "id": "5cce8f6f",
   "metadata": {},
   "outputs": [
    {
     "data": {
      "text/plain": [
       "6.0"
      ]
     },
     "execution_count": 62,
     "metadata": {},
     "output_type": "execute_result"
    }
   ],
   "source": [
    "np.median(y)"
   ]
  },
  {
   "cell_type": "markdown",
   "id": "e845ce5b",
   "metadata": {},
   "source": [
    "#### We will say that >6 is 'high quality' wine (1), otherwise, low (0). After all, it makes sense that 'high quality' wine is rarer\n"
   ]
  },
  {
   "cell_type": "code",
   "execution_count": 63,
   "id": "939efe3e",
   "metadata": {},
   "outputs": [],
   "source": [
    "df['quality'] = df['quality'].apply(lambda x: 1 if x>6 else 0)\n",
    "X = df.drop('quality',axis=1)\n",
    "y = df['quality']\n",
    "X_train, X_test, y_train, y_test = train_test_split(X, y, test_size=0.2, random_state=1112)"
   ]
  },
  {
   "cell_type": "code",
   "execution_count": 64,
   "id": "9f6f4195",
   "metadata": {},
   "outputs": [
    {
     "data": {
      "text/plain": [
       "0    5220\n",
       "1    1277\n",
       "Name: quality, dtype: int64"
      ]
     },
     "execution_count": 64,
     "metadata": {},
     "output_type": "execute_result"
    }
   ],
   "source": [
    "df['quality'].value_counts()"
   ]
  },
  {
   "cell_type": "code",
   "execution_count": 76,
   "id": "465fd112",
   "metadata": {},
   "outputs": [],
   "source": [
    "#majority class\n",
    "BASELINE_ACCURACY = 5220/(5220+1277)"
   ]
  },
  {
   "cell_type": "markdown",
   "id": "ac52cdf1",
   "metadata": {},
   "source": [
    "### Sklearn Gradient Boosing"
   ]
  },
  {
   "cell_type": "code",
   "execution_count": 82,
   "id": "0157b441",
   "metadata": {},
   "outputs": [],
   "source": [
    "baseline_grad = GradientBoostingClassifier(n_estimators=100,learning_rate=0.1, random_state=1112)"
   ]
  },
  {
   "cell_type": "code",
   "execution_count": 83,
   "id": "3b9d69d8",
   "metadata": {},
   "outputs": [
    {
     "data": {
      "text/plain": [
       "GradientBoostingClassifier(random_state=1112)"
      ]
     },
     "execution_count": 83,
     "metadata": {},
     "output_type": "execute_result"
    }
   ],
   "source": [
    "baseline_grad.fit(X_train, y_train)"
   ]
  },
  {
   "cell_type": "code",
   "execution_count": 84,
   "id": "c6b73653",
   "metadata": {},
   "outputs": [],
   "source": [
    "y_pred = baseline_grad.predict(X_test)"
   ]
  },
  {
   "cell_type": "code",
   "execution_count": 85,
   "id": "fa7a1fd1",
   "metadata": {},
   "outputs": [],
   "source": [
    "accuracy = accuracy_score(y_test, y_pred)\n",
    "f1 = f1_score(y_test, y_pred)\n",
    "precision = precision_score(y_test, y_pred)\n",
    "recall = recall_score(y_test, y_pred)"
   ]
  },
  {
   "cell_type": "code",
   "execution_count": 86,
   "id": "2eac3246",
   "metadata": {},
   "outputs": [
    {
     "name": "stdout",
     "output_type": "stream",
     "text": [
      "Accuracy: 0.8362\n",
      "Precision: 0.6709\n",
      "Recall: 0.3970\n",
      "F1-score: 0.4988\n"
     ]
    }
   ],
   "source": [
    "print(f\"Accuracy: {accuracy:.4f}\")\n",
    "print(f\"Precision: {precision:.4f}\")\n",
    "print(f\"Recall: {recall:.4f}\")\n",
    "print(f\"F1-score: {f1:.4f}\")"
   ]
  },
  {
   "cell_type": "markdown",
   "id": "d3c41b76",
   "metadata": {},
   "source": [
    "#### Our (sklearn's) model is not very good. barely better than the baseline. We only correctly identified 40% of high quality wines. Can we do better?"
   ]
  },
  {
   "cell_type": "markdown",
   "id": "51e2c4bb",
   "metadata": {},
   "source": [
    "### Custom Gradient Boosting Ensemble"
   ]
  },
  {
   "cell_type": "code",
   "execution_count": 253,
   "id": "6793f2be",
   "metadata": {},
   "outputs": [],
   "source": [
    "class GradientForest:\n",
    "    def __init__(self, n_estimators=100,learning_rate=0.1,estimator_depth=1):\n",
    "        self.n_estimators = n_estimators\n",
    "        self.learning_rate = learning_rate\n",
    "        self.estimator_depth = estimator_depth\n",
    "        self.models = []\n",
    "        self.intercept = None\n",
    "        \n",
    "    def fit(self, X, y):\n",
    "        \n",
    "        #Initialize with the mean for the first model\n",
    "        self.intercept = np.mean(y)\n",
    "        residuals = y - self.intercept  \n",
    "        #Train n decision trees\n",
    "        \n",
    "        for _ in range(self.n_estimators):\n",
    "            model = DecisionTreeRegressor(max_depth=self.estimator_depth)\n",
    "            model.fit(X, residuals)\n",
    "            \n",
    "            current_prediction = self.learning_rate * model.predict(X)            \n",
    "            #update residuals\n",
    "            residuals -= current_prediction\n",
    "            \n",
    "            self.models.append(model)\n",
    "    \n",
    "    def predict(self, X):\n",
    "        predictions = np.array([model.predict(X) for model in self.models])\n",
    "        bound = (np.sum(predictions, axis=0)+self.intercept).astype(int)\n",
    "        return np.where(bound >= 0,1,0)"
   ]
  },
  {
   "cell_type": "code",
   "execution_count": 303,
   "id": "9dea6403",
   "metadata": {},
   "outputs": [],
   "source": [
    "my_grad = GradientForest(n_estimators=100, learning_rate=0.001,estimator_depth=1) "
   ]
  },
  {
   "cell_type": "code",
   "execution_count": 308,
   "id": "c4792d01",
   "metadata": {},
   "outputs": [],
   "source": [
    "my_grad.fit(X_train, y_train)\n",
    "y_pred = my_grad.predict(X_test)"
   ]
  },
  {
   "cell_type": "code",
   "execution_count": 309,
   "id": "251f2266",
   "metadata": {},
   "outputs": [],
   "source": [
    "accuracy = accuracy_score(y_test, y_pred)\n",
    "f1 = f1_score(y_test, y_pred)\n",
    "precision = precision_score(y_test, y_pred)\n",
    "recall = recall_score(y_test, y_pred)"
   ]
  },
  {
   "cell_type": "code",
   "execution_count": 310,
   "id": "f86af040",
   "metadata": {},
   "outputs": [
    {
     "name": "stdout",
     "output_type": "stream",
     "text": [
      "Accuracy: 0.7254\n",
      "Precision: 0.4078\n",
      "Recall: 0.7453\n",
      "F1-score: 0.5272\n"
     ]
    }
   ],
   "source": [
    "print(f\"Accuracy: {accuracy:.4f}\")\n",
    "print(f\"Precision: {precision:.4f}\")\n",
    "print(f\"Recall: {recall:.4f}\")\n",
    "print(f\"F1-score: {f1:.4f}\")"
   ]
  },
  {
   "cell_type": "code",
   "execution_count": 311,
   "id": "2c72f7d9",
   "metadata": {},
   "outputs": [
    {
     "data": {
      "text/plain": [
       "array([0, 0, 1, ..., 1, 1, 0])"
      ]
     },
     "execution_count": 311,
     "metadata": {},
     "output_type": "execute_result"
    }
   ],
   "source": [
    "y_pred"
   ]
  },
  {
   "cell_type": "markdown",
   "id": "4be434de",
   "metadata": {},
   "source": [
    "#### Eh, not really, but at least the recall is better"
   ]
  },
  {
   "cell_type": "markdown",
   "id": "bfab6d60",
   "metadata": {},
   "source": [
    "We used a lower learning rate, which gave as sligtly better accuracy results. But it is still worse than the majority class baseline. Using too much (>1000) or to few (<100) estimators, our model performs worse."
   ]
  },
  {
   "cell_type": "code",
   "execution_count": 314,
   "id": "794a9a95",
   "metadata": {},
   "outputs": [],
   "source": [
    "y_pred_train = my_grad.predict(X_train)"
   ]
  },
  {
   "cell_type": "code",
   "execution_count": 315,
   "id": "5a0e02a3",
   "metadata": {},
   "outputs": [],
   "source": [
    "accuracy = accuracy_score(y_train, y_pred_train)\n",
    "f1 = f1_score(y_train, y_pred_train)\n",
    "precision = precision_score(y_train, y_pred_train)\n",
    "recall = recall_score(y_train, y_pred_train)"
   ]
  },
  {
   "cell_type": "code",
   "execution_count": 316,
   "id": "4d9976a4",
   "metadata": {},
   "outputs": [
    {
     "name": "stdout",
     "output_type": "stream",
     "text": [
      "Accuracy: 0.7235\n",
      "Precision: 0.3840\n",
      "Recall: 0.7000\n",
      "F1-score: 0.4960\n"
     ]
    }
   ],
   "source": [
    "print(f\"Accuracy: {accuracy:.4f}\")\n",
    "print(f\"Precision: {precision:.4f}\")\n",
    "print(f\"Recall: {recall:.4f}\")\n",
    "print(f\"F1-score: {f1:.4f}\")"
   ]
  },
  {
   "cell_type": "markdown",
   "id": "220fb369",
   "metadata": {},
   "source": [
    "#### Based on these results, we can conclude that our model doesn't overfit. It just sucks"
   ]
  },
  {
   "cell_type": "markdown",
   "id": "74602ccd",
   "metadata": {},
   "source": [
    "# XGBoost, LightCBM, CatBoost"
   ]
  },
  {
   "cell_type": "code",
   "execution_count": 319,
   "id": "e0097a15",
   "metadata": {},
   "outputs": [],
   "source": [
    "from xgboost import XGBClassifier\n",
    "from catboost import CatBoostClassifier\n",
    "from lightgbm import LGBMClassifier\n",
    "from sklearn.datasets import make_classification"
   ]
  },
  {
   "cell_type": "markdown",
   "id": "613ead0c",
   "metadata": {},
   "source": [
    "#### XGBoost"
   ]
  },
  {
   "cell_type": "code",
   "execution_count": 322,
   "id": "147f278e",
   "metadata": {},
   "outputs": [
    {
     "name": "stdout",
     "output_type": "stream",
     "text": [
      "[13:19:48] WARNING: ../src/learner.cc:1061: Starting in XGBoost 1.3.0, the default evaluation metric used with the objective 'binary:logistic' was changed from 'error' to 'logloss'. Explicitly set eval_metric if you'd like to restore the old behavior.\n",
      "XGBoost Metrics:\n",
      "Accuracy: 0.9973\n",
      "Precision: 0.9980\n",
      "Recall: 0.9881\n",
      "F1-score: 0.9930\n"
     ]
    },
    {
     "name": "stderr",
     "output_type": "stream",
     "text": [
      "/home/jon/.local/lib/python3.9/site-packages/xgboost/sklearn.py:888: UserWarning: The use of label encoder in XGBClassifier is deprecated and will be removed in a future release. To remove this warning, do the following: 1) Pass option use_label_encoder=False when constructing XGBClassifier object; and 2) Encode your labels (y) as integers starting with 0, i.e. 0, 1, 2, ..., [num_class - 1].\n",
      "  warnings.warn(label_encoder_deprecation_msg, UserWarning)\n"
     ]
    }
   ],
   "source": [
    "xgb_model = XGBClassifier()\n",
    "xgb_model.fit(X_train, y_train)\n",
    "\n",
    "# Predict on train set\n",
    "y_pred_train_xgb = xgb_model.predict(X_train)\n",
    "\n",
    "# Calculate metrics\n",
    "accuracy_xgb = accuracy_score(y_train, y_pred_train_xgb)\n",
    "precision_xgb = precision_score(y_train, y_pred_train_xgb)\n",
    "recall_xgb = recall_score(y_train, y_pred_train_xgb)\n",
    "f1_xgb = f1_score(y_train, y_pred_train_xgb)\n",
    "\n",
    "# Print metrics\n",
    "print(\"XGBoost Metrics:\")\n",
    "print(f\"Accuracy: {accuracy_xgb:.4f}\")\n",
    "print(f\"Precision: {precision_xgb:.4f}\")\n",
    "print(f\"Recall: {recall_xgb:.4f}\")\n",
    "print(f\"F1-score: {f1_xgb:.4f}\")"
   ]
  },
  {
   "cell_type": "markdown",
   "id": "174c3be7",
   "metadata": {},
   "source": [
    "#### CatBoost"
   ]
  },
  {
   "cell_type": "code",
   "execution_count": 326,
   "id": "f66593be",
   "metadata": {},
   "outputs": [
    {
     "name": "stdout",
     "output_type": "stream",
     "text": [
      "CatBoost Metrics:\n",
      "Accuracy: 0.9511\n",
      "Precision: 0.9667\n",
      "Recall: 0.7752\n",
      "F1-score: 0.8604\n"
     ]
    }
   ],
   "source": [
    "# Create and train CatBoost classifier\n",
    "catboost_model = CatBoostClassifier(verbose=0)\n",
    "catboost_model.fit(X_train, y_train)\n",
    "\n",
    "# Predict on train set\n",
    "y_pred_train_catboost = catboost_model.predict(X_train)\n",
    "\n",
    "# Calculate metrics\n",
    "accuracy_catboost = accuracy_score(y_train, y_pred_train_catboost)\n",
    "precision_catboost = precision_score(y_train, y_pred_train_catboost)\n",
    "recall_catboost = recall_score(y_train, y_pred_train_catboost)\n",
    "f1_catboost = f1_score(y_train, y_pred_train_catboost)\n",
    "\n",
    "# Print metrics\n",
    "print(\"CatBoost Metrics:\")\n",
    "print(f\"Accuracy: {accuracy_catboost:.4f}\")\n",
    "print(f\"Precision: {precision_catboost:.4f}\")\n",
    "print(f\"Recall: {recall_catboost:.4f}\")\n",
    "print(f\"F1-score: {f1_catboost:.4f}\")"
   ]
  },
  {
   "cell_type": "markdown",
   "id": "39ca681a",
   "metadata": {},
   "source": [
    "#### LGBM"
   ]
  },
  {
   "cell_type": "code",
   "execution_count": 324,
   "id": "961e991e",
   "metadata": {},
   "outputs": [
    {
     "name": "stdout",
     "output_type": "stream",
     "text": [
      "LightGBM Metrics:\n",
      "Accuracy: 0.9727\n",
      "Precision: 0.9728\n",
      "Recall: 0.8842\n",
      "F1-score: 0.9263\n"
     ]
    }
   ],
   "source": [
    "# Create and train LightGBM classifier\n",
    "lgbm_model = LGBMClassifier()\n",
    "lgbm_model.fit(X_train, y_train)\n",
    "\n",
    "# Predict on train set\n",
    "y_pred_train_lgbm = lgbm_model.predict(X_train)\n",
    "\n",
    "# Calculate metrics\n",
    "accuracy_lgbm = accuracy_score(y_train, y_pred_train_lgbm)\n",
    "precision_lgbm = precision_score(y_train, y_pred_train_lgbm)\n",
    "recall_lgbm = recall_score(y_train, y_pred_train_lgbm)\n",
    "f1_lgbm = f1_score(y_train, y_pred_train_lgbm)\n",
    "\n",
    "# Print metrics\n",
    "print(\"LightGBM Metrics:\")\n",
    "print(f\"Accuracy: {accuracy_lgbm:.4f}\")\n",
    "print(f\"Precision: {precision_lgbm:.4f}\")\n",
    "print(f\"Recall: {recall_lgbm:.4f}\")\n",
    "print(f\"F1-score: {f1_lgbm:.4f}\")"
   ]
  },
  {
   "cell_type": "markdown",
   "id": "a76e9444",
   "metadata": {},
   "source": [
    "#### They are clearly much better, why even try :/"
   ]
  },
  {
   "cell_type": "code",
   "execution_count": null,
   "id": "dd47c896",
   "metadata": {},
   "outputs": [],
   "source": []
  }
 ],
 "metadata": {
  "kernelspec": {
   "display_name": "Python 3 (ipykernel)",
   "language": "python",
   "name": "python3"
  },
  "language_info": {
   "codemirror_mode": {
    "name": "ipython",
    "version": 3
   },
   "file_extension": ".py",
   "mimetype": "text/x-python",
   "name": "python",
   "nbconvert_exporter": "python",
   "pygments_lexer": "ipython3",
   "version": "3.9.9"
  }
 },
 "nbformat": 4,
 "nbformat_minor": 5
}
